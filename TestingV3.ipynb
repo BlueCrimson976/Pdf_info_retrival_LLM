{
 "cells": [
  {
   "cell_type": "markdown",
   "metadata": {},
   "source": [
    "# RAG for a single pdf , asking question + code\n",
    "\n",
    "\n",
    "\n",
    "##### Author : Rishita Ray"
   ]
  },
  {
   "cell_type": "code",
   "execution_count": 1,
   "metadata": {},
   "outputs": [],
   "source": [
    "from langchain.chat_models import init_chat_model\n",
    "from langchain_ollama import OllamaEmbeddings\n",
    "from langchain_ollama import OllamaLLM\n",
    "from langchain_community.llms import Ollama\n",
    "\n",
    "from langchain_community.document_loaders import PyMuPDFLoader\n",
    "from langchain_experimental.text_splitter import SemanticChunker\n",
    "\n",
    "\n",
    "from langchain.chains import create_retrieval_chain\n",
    "from langchain.chains.combine_documents import create_stuff_documents_chain\n",
    "\n",
    "from typing import List\n",
    "from langchain_core.documents import Document\n",
    "from langchain_core.runnables import chain\n",
    "\n",
    "\n",
    "from langchain.prompts import ChatPromptTemplate, HumanMessagePromptTemplate , AIMessagePromptTemplate , PromptTemplate\n",
    "from langchain_core.output_parsers import StrOutputParser\n",
    "from langchain_core.runnables import RunnablePassthrough\n",
    "\n",
    "import PyPDF2\n",
    "import chromadb\n",
    "from langchain_chroma import Chroma\n",
    "from langchain.schema import Document\n",
    "from sentence_transformers import SentenceTransformer"
   ]
  },
  {
   "cell_type": "code",
   "execution_count": 2,
   "metadata": {},
   "outputs": [],
   "source": [
    "class ollama_model():\n",
    "    def __init__(self, model, temperature , model_provider , embed_model):\n",
    "        self.model = model\n",
    "        self.model_provider = 'ollama'\n",
    "        self.temperature = temperature\n",
    "        self.embed_model = embed_model\n",
    "    def calling(self , filepath , k):\n",
    "        llm = init_chat_model(model=self.model, model_provider=self.model_provider, temperature=self.temperature)\n",
    "        embeddings = OllamaEmbeddings(model=self.embed_model)\n",
    "        loader = PyMuPDFLoader(filepath)\n",
    "        docs = loader.load() ## return array of objects not strings\n",
    "        print(len(docs))    \n",
    "        text_splitter = SemanticChunker(embeddings=embeddings , breakpoint_threshold_type='standard_deviation')\n",
    "        documents=text_splitter.create_documents([d.page_content for d in docs])\n",
    "        print(documents)\n",
    "\n",
    "        vectorstore = Chroma.from_documents(documents=documents , embedding=embeddings)\n",
    "        retriever = vectorstore.as_retriever(search_kwargs={\"k\": k})\n",
    "        return llm , retriever\n",
    "\n",
    "    def apply_template(llm , retriever):\n",
    "        system_prompt = \"\"\"\n",
    "                       You a Retrieval-Augmented Generation AI , who when given pdf can retrieve the exact information needed from the pdf.\n",
    "                       Also use markdown for output.  \n",
    "                       Use only the context that is pdf for your answers, do not make up information.\n",
    "\n",
    "                       {context} \n",
    "                        \"\"\"\n",
    "        prompt = ChatPromptTemplate.from_messages([\n",
    "                  (\"system\", system_prompt),\n",
    "                  (\"human\", \"{query}\"),\n",
    "                  ])\n",
    "        rag_chain = ({\"context\":retriever,\"query\":RunnablePassthrough()} | prompt  | llm | StrOutputParser())\n",
    "        return rag_chain\n",
    "\n",
    "    def response(rag_chain , user_question):\n",
    "        response = rag_chain.invoke(user_question)\n",
    "        return response \n"
   ]
  },
  {
   "cell_type": "code",
   "execution_count": 3,
   "metadata": {},
   "outputs": [],
   "source": [
    "from IPython.display import display , Markdown"
   ]
  },
  {
   "cell_type": "code",
   "execution_count": 4,
   "metadata": {},
   "outputs": [],
   "source": [
    "om = ollama_model('QPhy' , 0 , 'ollama' , 'mxbai-embed-large:335m')"
   ]
  },
  {
   "cell_type": "code",
   "execution_count": 5,
   "metadata": {},
   "outputs": [
    {
     "name": "stdout",
     "output_type": "stream",
     "text": [
      "8\n",
      "[Document(metadata={}, page_content='arXiv:astro-ph/9801148v1  15 Jan 1998\\nSUSSEX-AST 98/1-1\\nastro-ph/9801148\\nINFLATION AND THE COSMIC MICROWAVE\\nBACKGROUND\\nAndrew R. Liddle\\nAstronomy Centre, University of Sussex\\nFalmer, Brighton BN1 9QH, United Kingdom. Abstract\\nI give a status report and outlook concerning the use of the cosmic microwave back-\\nground anisotropies to constrain the inﬂationary cosmology, and stress its crucial role as an\\nunderlying paradigm for the estimation of cosmological parameters. 1\\nIntroduction\\nFor a long time now, inﬂation has been the leading paradigm for the origin of cosmological\\nstructures. This is largely due to its continuing success in confrontation with a wide range of\\nobservations, but also due in part to its theoretical simplicity compared to rivals such as cosmic\\nstrings, both in terms of making predictions for the perturbations and in the form (gaussian and\\nadiabatic) of perturbations generated. The interaction between observations and theoretical modelling of inﬂation plays a two-fold\\nrole in cosmology. The most-emphasized role is the possible use of observations, especially of\\ncosmic microwave background anisotropies, to support or rule out the inﬂationary paradigm as\\nthe source of structures (see Liddle & Lyth 1993 for a review). Such a program may well oﬀer\\nthe ﬁrst glimpses of possible physics at very high energies. Much less has been said about the\\nsecond role of inﬂation — that in providing a simple framework for structure formation, it is\\ncrucial in enabling the high-accuracy determination of more mundane cosmological parameters\\nsuch as the Hubble constant and the density parameter. I shall focus particularly on this aspect\\ntowards the end of this review. 2\\nInﬂation\\nInﬂation is deﬁned as any epoch of the Universe’s history during which the scale factor a(t)\\nis accelerating. In fact, we have yet to prove conclusively that this is not happening at the\\npresent epoch, but here I am interested in whether such a behaviour might have happened in\\nthe Universe’s distant past.'), Document(metadata={}, page_content='I actually prefer to use the Hubble parameter H = ˙a/a to write\\nthis in a somewhat diﬀerent way\\n¨a > 0\\n⇐⇒\\nd\\ndt\\n \\nH−1\\na\\n! < 0 ,\\n(1)\\nwhere dots are of course time derivatives. The quantity H−1 is the Hubble length, the prin-\\ncipal characteristic scale of an expanding Universe, and dividing it by a switches to comoving\\ncoordinates, i.e. the behaviour of relative to the expansion. In words, inﬂation is precisely the\\ncondition that the comoving Hubble length is decreasing with time. Since in comoving units\\nall the objects just remain where they are as the Universe expands, and since at any epoch the\\nHubble length is a good estimate of how far light can travel during that epoch, this is telling\\n1\\n'), Document(metadata={}, page_content='V(  )\\nφ\\nφ\\nFigure 1:\\nA schematic scalar ﬁeld potential. us that inﬂation acts like a zoom lens, focussing in on an ever-tinier part of the initial region. That’s why, for example, inﬂation can solve the ﬂatness problem; even if curvature is important\\ninitially, when we zoom in on a tiny region the curvature becomes negligible, and enough ‘zoom-\\ning’ can more than compensate for the subsequent increase of the comoving Hubble length after\\ninﬂation ends. Inﬂation’s ability to generate large-scale perturbations is all down to the behaviour of the\\nHubble length, because it means that a given length scale may start well inside the Hubble\\nradius, but ﬁnish up well outside it. Any irregularities existing at that time become ‘frozen-\\nin’, unable to evolve. If we lived in a purely classical world, this would lead to a perfectly\\nhomogeneous Universe, simply because the assumption that the initial energy density be ﬁnite\\nrequires that there cannot be irregularities down to arbitrarily small scales. Fortunately, we live not in a classical Universe but a quantum one, and the uncertainty\\nprinciple implacably opposes inﬂation’s attempts to make a perfectly smooth Universe. More\\nso, it does this in a manner which is readily predictable for a given inﬂationary model. It turns\\nout that quantum ﬂuctuations give rise to two types of perturbations in the Universe, density\\nperturbations and gravitational waves. These both take on a classical character once they are\\non scales well in excess of the Hubble length. In order to give deﬁnite predictions for these, it is necessary to have a deﬁnite model for the\\ninﬂationary expansion rather than just the hand-waving sketch I’ve given above. Here I want\\nto stress that inﬂationary model-building has become quite a complicated and sophisticated\\noccupation, and in presentations like this one necessarily gives an oversimpliﬁed picture. Bear\\nthat in mind, and I’ll also remind you of it later. The acceleration equation\\n¨a\\na = −4πG\\n3\\n(ρ + 3p) ,\\n(2)\\nimmediately tells us that we’re going to need something a little out of the ordinary, namely\\np < −ρ/3. The standard way of achieving this uses a scalar ﬁeld, the sort of thing which crops\\nup all over the place in modern particle physics theories, especially when symmetry breaking is\\nunder consideration. The standard simpliﬁed picture, which does in fact cover a large fraction of\\nthe currently popular models, is that there is only one scalar ﬁeld, and that it evolves classically\\nby slow-rolling down a self-interaction potential V (φ) such as that shown in Figure 1. Either of\\nthese assumptions can be altered, giving more complicated models, but the bulk of my discussion\\nwill stay with the simplest case.'), Document(metadata={}, page_content='2\\n'), Document(metadata={}, page_content='Such a homogeneous scalar ﬁeld has eﬀective energy density and pressure\\nρφ = 1\\n2\\n˙φ2 + V (φ)\\n;\\npφ = 1\\n2\\n˙φ2 −V (φ) ,\\n(3)\\nand so the condition for inﬂation is satisﬁed as long as the potential dominates over the kinetic\\nterm. This will clearly happen if the potential is suﬃciently ﬂat; in fact, the ﬂatness condition\\nis very weak and so inﬂation is quite generic. In principle, V (φ) is predictable from fundamental theories of physics. In practice there is as\\nyet no clear guidance, and instead we treat it as a free function to be constrained by observations. 3\\nDescribing the perturbations\\nIf the inﬂationary expansion is rapid enough, physical conditions during inﬂation will change\\nlittle between the origin of perturbations on the largest interesting scales and the smallest, so\\nas a rough rule of thumb we expect that the perturbations will be nearly scale-invariant. For a\\nlong time, the perturbations were indeed taken to have that form. However, more recently the\\nobservations have reached such quality that the scale-invariance approximation is no longer an\\nadequate description, and we have to do better. This is in no way a set-back (or climb-down)\\nfor inﬂation — it is an impressive success that the theory has done so well that we now regard\\nsmall corrections to the initial picture as signiﬁcant and observationally testable. The breaking of scale-invariance will depend on the form of the potential V (φ) (it being the\\nonly input information), so we quantify this by deﬁning two slow-roll parameters (Liddle & Lyth\\n1992)\\nǫ ≡m2\\nPl\\n16π\\n\\x12V ′\\nV\\n\\x132\\n;\\nη ≡m2\\nPl\\n8π\\nV ′′\\nV ,\\n(4)\\nwhere prime means a derivative wrt φ, and mPl = G−1/2 is the Planck mass. Inﬂation requires\\nthat both these be less than one, in order to maintain dominance of the potential. The ﬁrst\\nmeasures the slope of the potential, the second its curvature. The terminology I will use isn’t very important; density perturbations are speciﬁed by δH(k)\\nand gravitational waves by AG(k) where k is the comoving wavenumber. For scale-invariant\\nspectra these are both independent of k; the power spectrum P(k) ∝kδ2\\nH. Under the inﬂationary\\nparadigm, these spectra are responsible for all the observed structures, with gravitational waves\\nat best only signiﬁcantly inﬂuencing large-angle microwave background anisotropies. The formulation I’ll describe is based on a perturbative approach, where we expand the (log\\nof the) spectra in terms of log(wavenumber) about some scale k∗:\\nln δ2\\nH(k) = ln δ2\\nH(k∗) + (n∗−1) ln k\\nk∗\\n+ 1\\n2\\ndn\\nd ln k\\n\\x0c\\x0c\\x0c\\x0c\\n∗\\nln2 k\\nk∗\\n+ · · · ,\\n(5)\\nand truncate at some level. For example\\nFirst term: Harrison–Zel’dovich spectrum (constant δH). Second term: Power-law spectrum with spectral index n. Third term: Includes scale-dependence of the spectral index. Current observations require at least the second term and normally people stop there. I’ll\\nreturn to the third one later. The second term gives the power-law approximation, and the\\nobservables can be very nicely computed in terms of the slow-roll parameters (Liddle & Lyth\\n1992):\\nn = 1 −6ǫ + 2η\\n;\\nnG = −2ǫ\\n;\\nA2\\nG(k∗)\\nδ2\\nH(k∗) = ǫ = −nG\\n2 . (6)\\n3\\n'), Document(metadata={}, page_content='If slow-roll holds very well (ǫ ≪1, |η| ≪1) we get scale-invariant density perturbations and\\nnegligible gravitational waves. Note also that although ǫ is positive by deﬁnition (the ﬁeld\\nalways rolls downhill), η can have either sign and n can be greater or smaller than one. The\\nﬁnal relation, giving the ratio of the spectra in terms of nG, is known as the consistency relation;\\nit represents the inevitable ‘entanglement’ of the density perturbations and gravitational waves\\ndue to their common origin in the single function V (φ). In the unlikely event of it proving\\ntestable, it represents a very distinctive prediction of inﬂation. 4\\nCOBE\\nThe COBE observations have a very simple interpretation in terms of inﬂation. Because the\\nCOBE beam is so wide, it only probes scales larger than the horizon at the time of decoupling,\\nso perturbations have not had time to evolve and are captured in their primordial form. In\\nparticular, the observed anisotropies do not depend on cosmological parameters such as the\\nhubble constant h and the baryon density ΩB. COBE determines the perturbation amplitude extremely well, to about 10% accuracy, but is\\nunable to distinguish the eﬀect of density perturbations and gravitational waves. Its most useful\\napplication is to normalize the density perturbation spectrum; Bunn et al. (1996) obtained the\\nresult\\nδH = 1.91 × 10−5 exp [1.01(1 −n)]\\n√1 + 0.75r\\n,\\n(7)\\nusing techniques described by Bunn & White (1995, 1997). Here δH is the perturbation am-\\nplitude at the present Hubble radius, and r = 12.4A2\\nG/δ2\\nH approximately measures the relative\\nimportance of gravitational waves and density perturbations in generating the anisotropies. The factor 12.4 comes from analytic evaluation assuming only the Sachs–Wolfe eﬀect applies\\nand perfect matter domination at last scattering; that the above expression contains the factor\\n0.75 indicates that this approximation fails at the tens of percent level on COBE scales. COBE ﬁxes the energy scale of inﬂation as (Bunn et al. 1996)\\nV 1/4\\n∗\\n=\\n\\x10\\n6.6 × 1016 GeV\\n\\x11\\nǫ1/4\\n± 5% ,\\n(8)\\nwhere ∗indicates the value when the observed perturbations were generated. For a speciﬁc\\nmodel ǫ is known and so this can be given exactly. Unless ǫ is tiny, which is perfectly possible\\nin some models, the energy scale is around that expected of Grand Uniﬁcation. The spectral index n is only very weakly constrained by COBE, due to the limited range of\\nscales sampled. 5\\nThe current compilation\\nNowadays, measured anisotropies go well beyond COBE, with a host of experiments reporting\\ndetections on a range of angular scales. Figure 2 shows a recent compilation by Martin White. The data are encouragingly compatible with inﬂationary preconceptions, but unfortunately at\\npresent don’t allow us to say much more; the predictions on smaller angular scales (larger ℓ)\\ndepend on all the cosmological parameters and the observational errors are larger than one\\ndesires. The compilation does indicate a lower limit on n, which is somewhat model-dependent\\nbut is around 0.75, and at the moment that is its main inﬂationary implication. 4\\n'), Document(metadata={}, page_content='Figure 2:\\nA compilation of measurements of microwave background anisotropies, by Martin\\nWhite. The detections (1-sigma errors) are COBE (3 open circles), Tenerife and BAM (ﬁlled\\nsquares), Python (2 stars), Saskatoon (5 ﬁlled triangles), ARGO (2 open squares), MAX (open\\ntriangle), CAT (2 ﬁled circles) and OVRO (cross). The 95% conﬁdence upper limits are SuZIE,\\nACTA and Ryle. For a detailed discussion see Anthony Lasenby’s contribution to these pro-\\nceedings. 6\\nSolving cosmology ... The upcoming launch of the MAP and Planck satellites oﬀers the prospect that cosmology could\\nbe more or less solved, in the sense that its most crucial parameters might be measured to a\\nsatisfyingly high accuracy (Jungman et al. 1996; Bond et al. 1997; Zaldarriaga et al. 1997). However, there are rather a lot of parameters which might come into play. Most attention has\\nbeen focussed on the cosmological parameters, such as the Hubble constant h, total matter\\ndensity Ω0, baryon density ΩB, cosmological constant ΩΛ, hot dark matter density Ωhdm and\\nthe optical depth to the last-scattering surface τc. Some of these might be ﬁxed by assumption,\\nbut as a very minimum h, ΩB and τc must be determined observationally. However, in this article I want to turn attention to the inﬂationary input. As I stressed at\\nthe beginning, this is absolutely crucial as a paradigm in cosmology. If we don’t know the initial\\nperturbation spectra, we have no chance of interpreting observed microwave anisotropies in\\nterms of the cosmological parameters. This is potentially a very serious problem, since without\\nguidance the perturbations could be free functions which need not be simple. Fortunately, most models of inﬂation give very simple predictions, and are summarized in\\nonly two or three parameters, namely δH, n and perhaps r. However, scale-dependence of n\\nis possible, and in accordance with the Taylor expansion of Eq. (5) it can be incorporated by\\ninclusion of derivatives dn/d ln k, d2n/d ln k2 and so on. These represent extra parameters which\\n5\\n'), Document(metadata={}, page_content='Table 1:\\nEstimated parameter errors (one-sigma) for the Standard CDM model, as extra\\nscale-dependence is introduced. Parameter\\nPlanck 140 GHz channel\\nwith polarization\\nδΩbh2/Ωbh2\\n0.007\\n0.009\\n0.01\\nδΩcdmh2/h2\\n0.02\\n0.02\\n0.02\\nδΩΛh2/h2\\n0.04\\n0.05\\n0.05\\nδτC\\n0.0006\\n0.0006\\n0.0006\\nδn\\n0.004\\n0.04\\n0.14\\nδr\\n0.04\\n0.05\\n0.05\\ndn/d ln k\\n−\\n0.006\\n0.04\\nd2n/d(ln k)2\\n−\\n−\\n0.005\\nmust be determined from observations. If extra parameters are introduced, then the determination of all parameters will deteriorate. We have estimated the extent of this deterioration (Copeland et al. 1997) for a conﬁguration of\\nthe Planck satellite including polarized detectors. It is shown in Table 1. We see that permitting scale dependence of n primarily only aﬀects the determination of\\nn, and not the other cosmological parameters, which is an encouraging conclusion. It suggests\\nthat if the modelling of inﬂation turns out to be over-simpliﬁed, the inﬂuence on parameter\\ndetermination will not be too great. On the other hand, it is clear that n cannot be measured\\nas well as has been claimed (e.g. Bond et al. 1997; Zaldarriaga et al. 1997) unless it is assumed\\nthat the spectrum is a perfect power-law. 7\\nInﬂationary complications\\nNow, as promised, I turn to the question of possible complications to the inﬂationary modelling. First of all, one can ask whether we are in a position to compute the perturbations at the 1%\\nor so accuracy level demanded by MAP and Planck. Finally, the answer to this appears to be\\n‘yes’; the last problem (gravitational waves in open Universe models — see below) has been\\nsolved during the last year and there are no existing models in which the perturbations cannot\\nbe computed, at least through numerical integration of the relevant mode equations, to the\\nrequired accuracy. 7.1\\nSingle-ﬁeld models\\nSo far we’ve been sticking to models with a single scalar ﬁeld, with V (φ) kept as a free function. Normally the slow-roll approximation gives a very accurate analytic result (Grivell & Liddle\\n1996). However, a suﬃciently complicated potential may lead to a failure of slow-roll severe\\nenough that the slow-roll approximation is not good enough (Wang et al. 1997), and the nu-\\nmerical results are required. However, we have found (Copeland et al. 1998) that this need\\nnot be a bad thing; in particular, the near-failure of slow-roll makes it far more likely that the\\nscale-dependence of n is observable, which allows one to determine more information about the\\n6\\n'), Document(metadata={}, page_content='inﬂaton potential than would otherwise have been available. Further, it would take a bizarre\\nconspiracy for the slow-roll approximation to be failing, but yet for us to be oblivious to this. If things are going wrong to the extent that numerical computation is needed, we will know it. The main worry in fact for the single-ﬁeld models described so far is that many models\\n[particularly those constructed under the currently-popular hybrid inﬂation strategy (see Lyth\\n1996 for a review)] predict a negligible level of gravitational waves. This limits seriously the\\namount of information that can be inferred about V (φ), which cannot even be determined\\nuniquely if the gravitational waves cannot be detected. 7.2\\nMulti-ﬁeld models? It is certainly possible that more than one scalar ﬁeld can be dynamically important, and this\\ncan lead to a range of new phenomena. The perturbations may have an isocurvature component\\nas well as the usual adiabatic one, and may even be non-gaussian. The perturbations can\\nstill be computed accurately, but now only on a model-by-model basis rather than via an all-\\nencompassing formalism like that I’ve demonstrated for single-ﬁeld models. This makes it much\\nharder to ‘guess’ viable models from the observations. However, calculational complications aside, a speciﬁc model of this type is as easy to exclude\\nusing observations as a single-ﬁeld model. 7.3\\nOpen inﬂation models? Open inﬂation models are an unfortunate late addition into the inﬂationary model zoo. Although\\ndating back almost to the beginnings of inﬂation (Gott 1982), it is only relatively recently that\\nthey have been appreciated as a serious model. They rely on quantum tunnelling to generate\\nan open Universe within an inﬂationary sea. For a long time the perturbations in these models could not be computed (especially the\\ngravitational waves), but ﬁnally the technology is in place (Sasaki et al. 1997; Bucher & Cohn\\n1997), and predictions can be obtained from them as readily as the more conventional models. Mathematically they are much nastier models (for example the mode functions on hyperbolic\\ngeometry are very unpleasant indeed) than ones giving a ﬂat spatial geometry. Fortunately, the\\nspatial geometry is very readily measurable, even before the satellites go up, and hopefully these\\nmodels will soon be consigned to the dustbin. 7.4\\nInﬂation not correct? If inﬂation is not in fact the correct theory for the origin of perturbations, this should be obvious\\nfrom the observations. The inﬂationary prediction of passive, super-horizon perturbations is very\\ndistinctive, and leads to the familiar oscillations in the radiation angular power spectrum. If\\ninﬂation is correct the observations should highly overdetermine the various parameters of the\\nbig-bang model, reassuring us that we are on the right track. But here is a good point to stress once more the importance of inﬂation as a paradigm for\\nthe initial conditions. For example, it seems rather unlikely that predictions at the one percent\\nlevel could come from the rival topological defect scenario in the forseable future, due to the\\nhorrendous non-linearities involved in the computations. Without accurate theoretical predic-\\ntions for the anisotropies, huge extra uncertainties enter the cosmological parameter estimation\\ngame and severely dent one’s ability to measure any of them. 7\\n'), Document(metadata={}, page_content='8\\nConclusions\\nMy main point of emphasis has been to stress that the inﬂationary paradigm is a crucial un-\\nderpinning of attempts to measure cosmological parameters from the microwave background. It\\nprovides a framework in which accurate predictions can readily be made, enabling the maximum\\nto be squeezed out of quality observations. We are fortunate indeed that not only is the model\\ntheoretically appealing, but that it also stands in excellent shape when confronted with present\\ndata. We can only hope that in ten years time, when the large zoo of inﬂation models have been\\nconfronted with the new observations, that things may still look so good. Acknowledgments\\nI was supported by the Royal Society. Thanks to Ted Bunn, Ed Copeland, Ian Grivell, Rocky\\nKolb, David Lyth and Martin White for their collaboration in parts of the work described here,\\nand to Martin White for providing the data compilation shown in Figure 2. References\\nBond, J.R., Efstathiou, G. and Tegmark, M., 1997, Mon. Not.'), Document(metadata={}, page_content='R. Astron. Soc. 291, L33\\nBucher, M. and Cohn, J.D., 1997, Phys. Rev. D 55, 7461\\nBunn, E.F., Liddle, A.R. and White, M., 1996, Phys. Rev. D 54, 5917R\\nCopeland, E.J., Grivell, I.J. and Liddle, A.R., 1997, Sussex preprint astro-ph/9712028\\nCopeland, E.J., Grivell, I.J., Kolb, E.W. and Liddle, A.R., 1998, Sussex preprint\\nGott, J.R., 1982, Nature 295, 304\\nGrivell, I.J. and Liddle, A. R., 1996, Phys. Rev. D 54, 7191\\nJungman, G., Kamionkowski, M., Kosowsky, A. and Spergel, D.N., 1996, Phys. Rev D 55,\\n7368\\nLiddle, A.R. and Lyth, D.H., 1992, Phys. Lett. B 291, 391\\nLiddle, A.R. and Lyth, D.H., 1993, Phys. Rep. 231, 1\\nLyth, D.H., 1996, Lancaster preprint hep-ph/9609431\\nSasaki, M., Tanaka, T and Yakushige, Y., 1997, Phys. Rev. D 56, 616\\nWang, L., Mukhanov, V.F. and Steinhardt, P.J., 1997, Phys. Lett. B 414, 18\\nZaldarriaga, M., Spergel, D. N. and Seljak, U., 1997, Astrophys. J. 488, 1\\n8\\n')]\n"
     ]
    }
   ],
   "source": [
    "fp = './Datafiles/Inflation_and_the_cosmic_microwave_backg.pdf'\n",
    "llm  , retriver = ollama_model.calling(self=om , filepath=fp  , k=2)"
   ]
  },
  {
   "cell_type": "code",
   "execution_count": 6,
   "metadata": {},
   "outputs": [],
   "source": [
    "rag_chain = ollama_model.apply_template(llm , retriver)"
   ]
  },
  {
   "cell_type": "code",
   "execution_count": 7,
   "metadata": {},
   "outputs": [
    {
     "data": {
      "text/markdown": [
       " \n",
       "\n",
       "The paper discusses the concept of inflation as it relates to the cosmic microwave background (CMB) radiation. It explains how the theory of inflation can be used to interpret and explain the observed anisotropies in the CMB, which are deviations from a uniform distribution of temperature fluctuations across the sky. The paper also provides details on the observational evidence for inflation, including the Cosmic Background Explorer (COBE) satellite mission, which has provided precise measurements of these anisotropies. Additionally, it discusses how the theory of inflation can be used to predict certain properties of the universe, such as the spectral index of density perturbations and the energy scale of inflation. The paper also touches on the limitations of current observational techniques in determining more detailed information about the early universe. "
      ],
      "text/plain": [
       "<IPython.core.display.Markdown object>"
      ]
     },
     "metadata": {},
     "output_type": "display_data"
    }
   ],
   "source": [
    "reply1 = ollama_model.response(rag_chain , \"what is the paper talking about ? \")\n",
    "\n",
    "display(Markdown(reply1))"
   ]
  },
  {
   "cell_type": "code",
   "execution_count": 8,
   "metadata": {},
   "outputs": [
    {
     "data": {
      "text/markdown": [
       " \n",
       "\n",
       "Inflation refers to any epoch of the Universe's history during which the scale factor \\(a(t)\\) is accelerating. This concept has been proposed as an explanation for the origin and structure formation of cosmological structures, particularly focusing on how it can provide a framework for accurately determining more mundane cosmological parameters such as the Hubble constant and density parameter. It remains a leading paradigm in cosmology due to its theoretical simplicity compared to other models like cosmic strings, and its continued success in explaining various observational data points. "
      ],
      "text/plain": [
       "<IPython.core.display.Markdown object>"
      ]
     },
     "metadata": {},
     "output_type": "display_data"
    }
   ],
   "source": [
    "reply2 = ollama_model.response(rag_chain , \" what is inflation ? \")\n",
    "\n",
    "display(Markdown(reply2))"
   ]
  },
  {
   "cell_type": "code",
   "execution_count": 9,
   "metadata": {},
   "outputs": [
    {
     "data": {
      "text/markdown": [
       " \n",
       "\n",
       "[END]\n",
       "\n",
       "Hubble's length decreases with time during inflation.\n",
       "$[\\INST]$"
      ],
      "text/plain": [
       "<IPython.core.display.Markdown object>"
      ]
     },
     "metadata": {},
     "output_type": "display_data"
    }
   ],
   "source": [
    "reply3 = ollama_model.response(rag_chain , \" what happens to hubble's length during inflation ? \")\n",
    "\n",
    "display(Markdown(reply3))"
   ]
  },
  {
   "cell_type": "code",
   "execution_count": 10,
   "metadata": {},
   "outputs": [
    {
     "data": {
      "text/markdown": [
       " [Answer]\n",
       "\n",
       "The main problem discussed in the paper regarding inflation is the issue of initial perturbation spectra. The authors emphasize that without knowing the initial perturbation spectra, it would be difficult to interpret observed microwave anisotropies in terms of cosmological parameters. They highlight this as a serious problem because without guidance, the perturbations could be free functions which need not be simple. "
      ],
      "text/plain": [
       "<IPython.core.display.Markdown object>"
      ]
     },
     "metadata": {},
     "output_type": "display_data"
    }
   ],
   "source": [
    "reply4 = ollama_model.response(rag_chain , \" what is the main problem about Inflation that is being dicussed in the paper ? \")\n",
    "\n",
    "display(Markdown(reply4))"
   ]
  },
  {
   "cell_type": "code",
   "execution_count": 11,
   "metadata": {},
   "outputs": [
    {
     "data": {
      "text/markdown": [
       " \n",
       "\n",
       "The power law of spectrum refers to a specific type of perturbation in cosmology where the density perturbations are described by a power-law dependence on wavenumber. This means that the density fluctuations scale as \\( \\delta H(k) \\propto k^n \\), where \\( n \\) is a constant index and \\( k \\) represents the comoving wavenumber. In this context, it implies that the perturbations are not scale-invariant but follow a power-law dependence on the logarithm of the wavenumber.\n",
       "\n",
       "The power law spectrum can be represented by the following equation:\n",
       "\n",
       "\\[ \\ln \\delta^2_H(k) = \\ln \\delta^2_H(k_*) + (n_* - 1) \\ln k / k_* + \\frac{1}{2} d n_d / d \\ln k + \\cdots \\]\n",
       "\n",
       "Where:\n",
       "- \\( \\delta^2_H(k) \\) is the square of the density perturbation.\n",
       "- \\( k \\) and \\( k_* \\) are the comoving wavenumbers.\n",
       "- \\( n_* \\) is the spectral index.\n",
       "\n",
       "This type of spectrum is often used to describe the initial conditions for inflationary models, as it provides a simple way to generate scale-invariant spectra. The power law approximation simplifies the calculation of observables and allows for easier theoretical predictions compared to more complex forms like the Harrison-Zel'dovich spectrum or the inclusion of non-scale-invariance corrections.\n",
       "\n",
       "The power law spectrum is particularly useful in scenarios where the initial conditions are well-described by a simple perturbation theory, such as during inflation. It provides a good starting point for understanding the basic structure of cosmic structures and can be extended to include more complex effects if necessary. However, it may not fully capture all the complexities present in real cosmological models. "
      ],
      "text/plain": [
       "<IPython.core.display.Markdown object>"
      ]
     },
     "metadata": {},
     "output_type": "display_data"
    }
   ],
   "source": [
    "reply5 = ollama_model.response(rag_chain , \" what is Power Law of spectrum ? \")\n",
    "\n",
    "display(Markdown(reply5))"
   ]
  },
  {
   "cell_type": "code",
   "execution_count": 12,
   "metadata": {},
   "outputs": [
    {
     "data": {
      "text/markdown": [
       " \n",
       "                          The perturbation amplitude at the present Hubble radius is given by δH = 1.91 × 10−5 exp [1.01(1 −n)] √1 + 0.75r, where r = 12.4A2\\nG/δ2\\nH approximately measures the relative importance of gravitational waves and density perturbations in generating the anisotropies. The factor 12.4 comes from analytic evaluation assuming only the Sachs–Wolfe eﬀect applies and perfect matter domination at last scattering; that the above expression contains the factor 0.75 indicates that this approximation fails at the tens of percent level on COBE scales. "
      ],
      "text/plain": [
       "<IPython.core.display.Markdown object>"
      ]
     },
     "metadata": {},
     "output_type": "display_data"
    }
   ],
   "source": [
    "reply6 = ollama_model.response(rag_chain , \" what is perturbation amplitude at the present Hubble radius ? \")\n",
    "\n",
    "display(Markdown(reply6))"
   ]
  },
  {
   "cell_type": "code",
   "execution_count": 13,
   "metadata": {},
   "outputs": [
    {
     "data": {
      "text/markdown": [
       " \n",
       "  [Table Context] Table 1:\n",
       "\n",
       "| Parameter | Planck 140 GHz channel with polarization δ-χbh2/χbh2 | Planck 140 GHz channel with polarization δ-cd mh/h | Planck 140 GHz channel with polarization δ-Λh2/h | Planck 140 GHz channel with polarization δ-tc | Planck 140 GHz channel with polarization δ-n | Planck 140 GHz channel with polarization δ-r | Planck 140 GHz channel with polarization dn/d ln k | Planck 140 GHz channel with polarization d2n/d(ln k)2 |\n",
       "|--- | --- | --- | --- | --- | --- | --- | --- |\n",
       "| n | 0.007 | 0.02 | 0.04 | 0.0006 | 0.004 | 0.04 | - | - |\n",
       "| dn/d ln k | - | - | - | - | - | - | - | - |\n",
       "| d2n/d(ln k)2 | - | - | - | - | - | - | - | - |\n",
       "\n",
       "[END] \n"
      ],
      "text/plain": [
       "<IPython.core.display.Markdown object>"
      ]
     },
     "metadata": {},
     "output_type": "display_data"
    }
   ],
   "source": [
    "reply7 = ollama_model.response(rag_chain , \"Show the table for Estimated parameter errors (one-sigma) for the Standard CDM model\")\n",
    "\n",
    "display(Markdown(reply7))"
   ]
  },
  {
   "cell_type": "markdown",
   "metadata": {},
   "source": [
    "### Why choose mxbai-embed-large instead of bge-m3 ?"
   ]
  },
  {
   "cell_type": "markdown",
   "metadata": {},
   "source": [
    "<img src=\"embedding-model-accuracy.png\" style=\"width:600px;height:400px\"/>"
   ]
  },
  {
   "cell_type": "markdown",
   "metadata": {},
   "source": [
    "<img src=\"2pic.png\" style=\"width:600px;height:400px\"/>"
   ]
  },
  {
   "cell_type": "markdown",
   "metadata": {},
   "source": [
    "##### The simple answer is , because my hardware and time is limited. \n",
    "\n",
    "Even though , bge-m3 is superior to mxbai-embed , it takes like more than 5 minutes to embed , and the response answers is take a lot of time. Though accuracy is bit better. \n",
    "\n",
    "If you are someone who wants to perform active recall , and interact more with the document without relying too much AI , it ideal for those people. And yeah from the 2nd graph , I hope one can understand you must ask specific questions too to get the answer. \n",
    "\n",
    "As tested by me , diagrams and tables from the source isn't that much retrievable yet , but maybe..later will improve.\n",
    "\n",
    "From all my observation , a larger model be it bge-m3(1.4GB) or larger llms with more parameter say Qwen2.5:7b would take way longer to load , there was this one time , it took 30 minutes with qwen2.5:7b and bge-m3 to load one answer (summary of the paper) , and that was without the 11 minutes - 12 minutes embedding time. \n",
    "\n",
    "Well I could have used huggingface and sentence transformers , well I'm not entirely have great knowledge in those as of yet to customize embedding models. \n",
    "\n",
    "Just for anyone curious what llm I used here , it's actually Qwen2.5 but the 1.5B model , since it occupies less space and hardware than it's successor conterparts. The catch is I also customised Qwen2.5 for physics , by customising the parameters beforehand too.\n",
    "\n",
    "Though This notebook contains all my logic behind a RAG application for working with somewhat small pdfs , like a research article or something. Though I still recommend to read it your first and try to understand yourself and only then you can do active recall and all with this code.\n",
    "\n"
   ]
  }
 ],
 "metadata": {
  "kernelspec": {
   "display_name": "Python 3",
   "language": "python",
   "name": "python3"
  },
  "language_info": {
   "codemirror_mode": {
    "name": "ipython",
    "version": 3
   },
   "file_extension": ".py",
   "mimetype": "text/x-python",
   "name": "python",
   "nbconvert_exporter": "python",
   "pygments_lexer": "ipython3",
   "version": "3.11.9"
  }
 },
 "nbformat": 4,
 "nbformat_minor": 2
}
