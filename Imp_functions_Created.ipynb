{
 "cells": [
  {
   "cell_type": "markdown",
   "metadata": {},
   "source": [
    "## RAG Concepts Version 3"
   ]
  },
  {
   "cell_type": "markdown",
   "metadata": {},
   "source": [
    "Improvements : \n",
    "\n",
    "1. Understanding Embedding models + Using Huggingface embedding models instead of ollama embeddings \n",
    "2. Using JsonOutputParser()\n",
    "3. More ways for creating better prompt\n",
    "4. Creation of Json Files semantically from pdf provided. \n",
    "5. Using sentence transformers lib"
   ]
  },
  {
   "cell_type": "code",
   "execution_count": 17,
   "metadata": {},
   "outputs": [],
   "source": [
    "from langchain.chat_models import init_chat_model\n",
    "from langchain.prompts import ChatPromptTemplate\n",
    "from langchain_core.output_parsers import (JsonOutputParser , StrOutputParser , PydanticOutputParser)\n",
    "from langchain_core.pydantic_v1 import BaseModel, Field, validator\n",
    "from langchain_core.runnables import RunnablePassthrough\n",
    "from langchain_ollama import OllamaLLM"
   ]
  },
  {
   "cell_type": "code",
   "execution_count": 2,
   "metadata": {},
   "outputs": [],
   "source": [
    "from langchain_community.document_loaders import PyMuPDFLoader\n",
    "from langchain_experimental.text_splitter import SemanticChunker\n",
    "from langchain_huggingface.embeddings import HuggingFaceEmbeddings\n",
    "from sentence_transformers import SentenceTransformer\n",
    "import json \n",
    "\n",
    "embeddings = HuggingFaceEmbeddings(model_name=\"sentence-transformers/paraphrase-multilingual-MiniLM-L12-v2\" )\n",
    "filepath = 'Datafiles/Publication606.pdf'\n",
    "threshold_type='gradient'\n",
    "save_as_name = 'BoseEins'\n",
    "\n",
    "def create_tfiles(embeddings , filepath , threshold_type , save_as_name):\n",
    "    loader = PyMuPDFLoader(filepath)\n",
    "    docs = loader.load()\n",
    "    text_splitter = SemanticChunker(embeddings=embeddings , breakpoint_threshold_type=threshold_type)\n",
    "    documents=text_splitter.create_documents([d.page_content for d in docs])\n",
    "    conxt = \"\"\n",
    "    jdata = {}\n",
    "    for page in range(len(documents)):\n",
    "        conxt += documents[page].page_content \n",
    "        jdata[page+1] = str(documents[page].page_content) \n",
    "        with open(save_as_name+'.json', 'w') as f:\n",
    "             json.dump(jdata, f)\n",
    "    print(\"The \"+\" \"+save_as_name+\".json file has been created.\")\n",
    "    return jdata"
   ]
  },
  {
   "cell_type": "code",
   "execution_count": 3,
   "metadata": {},
   "outputs": [
    {
     "name": "stdout",
     "output_type": "stream",
     "text": [
      "The  BoseEins.json file has been created.\n"
     ]
    }
   ],
   "source": [
    "jdat=create_tfiles(embeddings , filepath , threshold_type , save_as_name)"
   ]
  },
  {
   "cell_type": "code",
   "execution_count": 22,
   "metadata": {},
   "outputs": [],
   "source": [
    "#### Ref prompt template : https://www.youtube.com/watch?v=hztWQcoUbt0&list=LL&index=3\n",
    "\n",
    "\n",
    "label_template  = \"\"\"  \n",
    "                    You are in AI assistant tasked with generating question-answer pairs based on the document.\n",
    "                    The question should be something the user might naturally ask  when seeking information contained in the document.\n",
    "\n",
    "                    Given:{chunk}\n",
    "\n",
    "                    Instructions:\n",
    "                    1. Analyse the key topics , facts and concepts in the give document , choose one to focus on.\n",
    "                    2. Generate 2 similar questions that the users might ask to find the information in this document.\n",
    "                    3. Use natural language and occasionally include typos to mimic real user behaviour in the question.\n",
    "                    4. Ensure the question is semantically related to the document content WITHOUT directly copying phrases.\n",
    "                    5. Make sure that all of the questions are similar to each other. I.E. All asking about a similar topic/requesting the same question.\n",
    "\n",
    "                    Output Format:\n",
    "                    Return a JSON object with the following structure:\n",
    "                    '''json \n",
    "                    {{\n",
    "                     \"question_1\" : \"Generated question text\" ,\n",
    "                     \"question_2\" : \"Generated question text\" ,\n",
    "                     ...\n",
    "                    }} ''' \n",
    "                    \n",
    "                    Be creative , think like a curious user , and generate your 2 similar questions that would naturally lead to the given document in a semantic search.\n",
    "                    Ensure your response is a valid JSON object containing only the questions.\n",
    "                    \"\"\"\n",
    "\n",
    "label_prompt = ChatPromptTemplate.from_template(label_template)\n",
    "model = OllamaLLM(model='qwen2.5:1.5b' , temperature=0)\n",
    "label_chain = label_prompt | model | JsonOutputParser()                "
   ]
  },
  {
   "cell_type": "code",
   "execution_count": 23,
   "metadata": {},
   "outputs": [
    {
     "data": {
      "text/plain": [
       "{'question_1': 'What are the critical temperatures observed in the strongest and weakest traps?',\n",
       " 'question_2': \"How does the condensate's length affect its propagation speed, and what was the initial condition for this experiment?\"}"
      ]
     },
     "execution_count": 23,
     "metadata": {},
     "output_type": "execute_result"
    }
   ],
   "source": [
    "label_chain.invoke({\"chunk\" : jdat[7]})"
   ]
  },
  {
   "cell_type": "code",
   "execution_count": 24,
   "metadata": {},
   "outputs": [
    {
     "data": {
      "text/plain": [
       "{'question_1': 'How was the imaging of Bose-Einstein condensates achieved?',\n",
       " 'question_2': 'What techniques were used to generate localized density perturbations in a Bose-Einstein condensate?'}"
      ]
     },
     "execution_count": 24,
     "metadata": {},
     "output_type": "execute_result"
    }
   ],
   "source": [
    "label_chain.invoke({\"chunk\" : jdat[6]})"
   ]
  },
  {
   "cell_type": "code",
   "execution_count": 29,
   "metadata": {},
   "outputs": [
    {
     "name": "stdout",
     "output_type": "stream",
     "text": [
      "{'Chunk 1': {'question_1': 'What are some key findings regarding sound propagation in Bose-Einstein condensates?', 'question_2': 'How does the concept of Bose-Einstein condensation affect our understanding of sound waves and their behavior within this state?'}, 'Chunk 2': {'question_1': 'What are the names of the individuals mentioned in this document?', 'question_2': 'Who are R. Andrews, D. M. Kurn, H.-J. Miesner, and D. S. Durfee?'}, 'Chunk 3': {'question_1': 'How was sound propagation observed in a magnetically trapped dilute Bose-Einstein condensate, and what method was used to determine the speed of sound?', 'question_2': 'What is the microscopic picture developed for quantum liquids based on elementary excitations and quantum hydrodynamics, and how does it apply to Bose-Einstein condensed gases?'}, 'Chunk 4': {'question_1': 'How do the frequencies of the lowest collective excitations depend on c0yd, and what does this imply for previous experiments involving these excitations?', 'question_2': 'What experimental setup was used to create Bose-Einstein condensates similar to the one described in the document, and how did it differ from previous work?'}, 'Chunk 5': {'question_1': 'What improvements were made to signal-to-noise ratio, and who conducted this research?', 'question_2': 'How did the recent publication in Physical Review Letters impact the field of physics, and what specific aspect was improved?'}, 'Chunk 6': {'question_1': 'How was the imaging of Bose-Einstein condensates achieved?', 'question_2': 'What techniques were used to generate localized density perturbations in a Bose-Einstein condensate?'}, 'Chunk 7': {'question_1': 'What are the critical temperatures observed in the strongest and weakest traps?', 'question_2': \"How does the condensate's length affect its propagation speed, and what was the initial condition for this experiment?\"}, 'Chunk 8': {'question_1': 'What are the vertical proﬁles shown in Fig. 3, and how do they relate to the images in the upper sequence of Fig?', 'question_2': 'How does Fig. 3 depict the vertical profiles through the images in the upper sequence of Fig., and what information can be inferred from these profiles?'}, 'Chunk 9': {'question_1': 'What were the estimated values for the peak density n0?', 'question_2': 'How was the scattering length determined spectroscopically, and what was its value?'}, 'Chunk 10': {'question_1': 'What are the experimental results shown in Fig. 4, and how well do they match with theoretical prediction?', 'question_2': \"How does the discrepancy between the experimental results and theoretical prediction at higher densities affect our understanding of the system's behavior?\"}, 'Chunk 11': {'question_1': 'What are the key factors affecting the dispersion of wave packets in a Bose-Einstein condensate?', 'question_2': 'How does temperature influence the speed of sound propagation in a Bose-Einstein condensate, and what is the significance of the normal component?'}, 'Chunk 12': {'question_1': 'How does the density perturbation expand ballistically, and what are the observed structures after 40 ms expansion?', 'question_2': 'What techniques were used to excite collective excitations in a Bose-Einstein condensed cloud, and how did focusing laser beams affect the condensate?'}, 'Chunk 13': {'question_1': 'Can you explain how quantum entanglement works and its significance in modern physics?', 'question_2': 'What are some practical applications of superposition theory, and why is it important for technology development?'}, 'Chunk 14': {'question_1': 'What NSF Graduate Research Fellowship did M. K. receive, and how does it relate to their research?', 'question_2': \"Can you provide more details on the types of support that were offered by the NSF Graduate Research Fellowship for M. K.'s research?\"}, 'Chunk 15': {'question_1': 'What are NATO Science Fellowships, and how do G. T. and H.-J. M. fit into this program?', 'question_2': 'How does the Deutscher Akademischer Austauschdienst (DAAD) contribute to research funding in Germany, and what is the significance of their fellowships for international researchers like G. T. and H.-J. M?'}, 'Chunk 16': {'question_1': \"What are some key concepts discussed in P. Nozières and D. Pines' book 'The Theory of Quantum Liquids', focusing on its second volume?\", 'question_2': \"How does A. Grifﬁn's work, 'Excitations in a Bose-Einstein-Condensed Liquid', contribute to our understanding of the properties of Bose-Einstein condensates?\"}, 'Chunk 17': {'question_1': 'What are some key findings from the study published by Anderson et al. in Science in 1995?', 'question_2': 'How did M. H. Anderson and colleagues contribute to scientific knowledge through their research on [3]?'}, 'Chunk 18': {'question_1': 'What are some key experiments mentioned in the document related to quantum physics?', 'question_2': 'Can you provide examples of recent studies on Bose-Einstein condensates and their applications?'}, 'Chunk 19': {'question_1': 'What are some key findings from the research on quantum computing presented by M. R. Andrews et al.?', 'question_2': \"How does E. Tiesinga's work in J. Res. Natl. Inst. Stand. relate to the advancements in national standards for scientific instruments?\"}, 'Chunk 20': {'question_1': 'What was the main limitation of using far-detuned probe light for quantitative thermal analysis?', 'question_2': 'How did the use of far-detuned probe light affect the ability to determine small thermal fractions accurately?'}, 'Chunk 21': {'question_1': \"What were W. Ketterle's invited talks at IQEC, ICAP, LT 21, and Summer '96?\", 'question_2': \"Could you provide details on any of W. Ketterle's invited talks from the given document?\"}}\n"
     ]
    }
   ],
   "source": [
    "datajson = {}\n",
    "for i in range(len(jdat)):\n",
    "    datajson[\"Chunk \"+ str(i+1)] = label_chain.invoke({\"chunk\" : jdat[i+1]})\n",
    "\n",
    "print(datajson)"
   ]
  },
  {
   "cell_type": "code",
   "execution_count": 30,
   "metadata": {},
   "outputs": [
    {
     "data": {
      "text/plain": [
       "{'Chunk 1': {'question_1': 'What are some key findings regarding sound propagation in Bose-Einstein condensates?',\n",
       "  'question_2': 'How does the concept of Bose-Einstein condensation affect our understanding of sound waves and their behavior within this state?'},\n",
       " 'Chunk 2': {'question_1': 'What are the names of the individuals mentioned in this document?',\n",
       "  'question_2': 'Who are R. Andrews, D. M. Kurn, H.-J. Miesner, and D. S. Durfee?'},\n",
       " 'Chunk 3': {'question_1': 'How was sound propagation observed in a magnetically trapped dilute Bose-Einstein condensate, and what method was used to determine the speed of sound?',\n",
       "  'question_2': 'What is the microscopic picture developed for quantum liquids based on elementary excitations and quantum hydrodynamics, and how does it apply to Bose-Einstein condensed gases?'},\n",
       " 'Chunk 4': {'question_1': 'How do the frequencies of the lowest collective excitations depend on c0yd, and what does this imply for previous experiments involving these excitations?',\n",
       "  'question_2': 'What experimental setup was used to create Bose-Einstein condensates similar to the one described in the document, and how did it differ from previous work?'},\n",
       " 'Chunk 5': {'question_1': 'What improvements were made to signal-to-noise ratio, and who conducted this research?',\n",
       "  'question_2': 'How did the recent publication in Physical Review Letters impact the field of physics, and what specific aspect was improved?'},\n",
       " 'Chunk 6': {'question_1': 'How was the imaging of Bose-Einstein condensates achieved?',\n",
       "  'question_2': 'What techniques were used to generate localized density perturbations in a Bose-Einstein condensate?'},\n",
       " 'Chunk 7': {'question_1': 'What are the critical temperatures observed in the strongest and weakest traps?',\n",
       "  'question_2': \"How does the condensate's length affect its propagation speed, and what was the initial condition for this experiment?\"},\n",
       " 'Chunk 8': {'question_1': 'What are the vertical proﬁles shown in Fig. 3, and how do they relate to the images in the upper sequence of Fig?',\n",
       "  'question_2': 'How does Fig. 3 depict the vertical profiles through the images in the upper sequence of Fig., and what information can be inferred from these profiles?'},\n",
       " 'Chunk 9': {'question_1': 'What were the estimated values for the peak density n0?',\n",
       "  'question_2': 'How was the scattering length determined spectroscopically, and what was its value?'},\n",
       " 'Chunk 10': {'question_1': 'What are the experimental results shown in Fig. 4, and how well do they match with theoretical prediction?',\n",
       "  'question_2': \"How does the discrepancy between the experimental results and theoretical prediction at higher densities affect our understanding of the system's behavior?\"},\n",
       " 'Chunk 11': {'question_1': 'What are the key factors affecting the dispersion of wave packets in a Bose-Einstein condensate?',\n",
       "  'question_2': 'How does temperature influence the speed of sound propagation in a Bose-Einstein condensate, and what is the significance of the normal component?'},\n",
       " 'Chunk 12': {'question_1': 'How does the density perturbation expand ballistically, and what are the observed structures after 40 ms expansion?',\n",
       "  'question_2': 'What techniques were used to excite collective excitations in a Bose-Einstein condensed cloud, and how did focusing laser beams affect the condensate?'},\n",
       " 'Chunk 13': {'question_1': 'Can you explain how quantum entanglement works and its significance in modern physics?',\n",
       "  'question_2': 'What are some practical applications of superposition theory, and why is it important for technology development?'},\n",
       " 'Chunk 14': {'question_1': 'What NSF Graduate Research Fellowship did M. K. receive, and how does it relate to their research?',\n",
       "  'question_2': \"Can you provide more details on the types of support that were offered by the NSF Graduate Research Fellowship for M. K.'s research?\"},\n",
       " 'Chunk 15': {'question_1': 'What are NATO Science Fellowships, and how do G. T. and H.-J. M. fit into this program?',\n",
       "  'question_2': 'How does the Deutscher Akademischer Austauschdienst (DAAD) contribute to research funding in Germany, and what is the significance of their fellowships for international researchers like G. T. and H.-J. M?'},\n",
       " 'Chunk 16': {'question_1': \"What are some key concepts discussed in P. Nozières and D. Pines' book 'The Theory of Quantum Liquids', focusing on its second volume?\",\n",
       "  'question_2': \"How does A. Grifﬁn's work, 'Excitations in a Bose-Einstein-Condensed Liquid', contribute to our understanding of the properties of Bose-Einstein condensates?\"},\n",
       " 'Chunk 17': {'question_1': 'What are some key findings from the study published by Anderson et al. in Science in 1995?',\n",
       "  'question_2': 'How did M. H. Anderson and colleagues contribute to scientific knowledge through their research on [3]?'},\n",
       " 'Chunk 18': {'question_1': 'What are some key experiments mentioned in the document related to quantum physics?',\n",
       "  'question_2': 'Can you provide examples of recent studies on Bose-Einstein condensates and their applications?'},\n",
       " 'Chunk 19': {'question_1': 'What are some key findings from the research on quantum computing presented by M. R. Andrews et al.?',\n",
       "  'question_2': \"How does E. Tiesinga's work in J. Res. Natl. Inst. Stand. relate to the advancements in national standards for scientific instruments?\"},\n",
       " 'Chunk 20': {'question_1': 'What was the main limitation of using far-detuned probe light for quantitative thermal analysis?',\n",
       "  'question_2': 'How did the use of far-detuned probe light affect the ability to determine small thermal fractions accurately?'},\n",
       " 'Chunk 21': {'question_1': \"What were W. Ketterle's invited talks at IQEC, ICAP, LT 21, and Summer '96?\",\n",
       "  'question_2': \"Could you provide details on any of W. Ketterle's invited talks from the given document?\"}}"
      ]
     },
     "execution_count": 30,
     "metadata": {},
     "output_type": "execute_result"
    }
   ],
   "source": [
    "datajson"
   ]
  },
  {
   "cell_type": "code",
   "execution_count": 32,
   "metadata": {},
   "outputs": [],
   "source": [
    "with open('QSetData.json' , 'w') as f:\n",
    "     json.dump(datajson , f , indent=4)"
   ]
  }
 ],
 "metadata": {
  "kernelspec": {
   "display_name": "Python 3",
   "language": "python",
   "name": "python3"
  },
  "language_info": {
   "codemirror_mode": {
    "name": "ipython",
    "version": 3
   },
   "file_extension": ".py",
   "mimetype": "text/x-python",
   "name": "python",
   "nbconvert_exporter": "python",
   "pygments_lexer": "ipython3",
   "version": "3.11.9"
  }
 },
 "nbformat": 4,
 "nbformat_minor": 2
}
