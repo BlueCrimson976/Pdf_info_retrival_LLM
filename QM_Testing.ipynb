{
 "cells": [
  {
   "cell_type": "markdown",
   "metadata": {},
   "source": [
    "# PDF Info Retrival Qwen2.5-Ollama"
   ]
  },
  {
   "cell_type": "code",
   "execution_count": 1,
   "metadata": {},
   "outputs": [],
   "source": [
    "from IPython.display import display , Markdown"
   ]
  },
  {
   "cell_type": "code",
   "execution_count": 2,
   "metadata": {},
   "outputs": [],
   "source": [
    "from qwen_model import qwen_model"
   ]
  },
  {
   "cell_type": "code",
   "execution_count": 3,
   "metadata": {},
   "outputs": [],
   "source": [
    "qm=qwen_model('qwen2.5' , 'ollama' , 0 , \"nomic-embed-text\")"
   ]
  },
  {
   "cell_type": "code",
   "execution_count": 4,
   "metadata": {},
   "outputs": [],
   "source": [
    "fp = './Datafiles/Publication606.pdf'\n",
    "llm , ids , retriver = qwen_model.calling(self=qm , filepath=fp , chuncksize=1000 , chunckoverlap=200 , k=3)"
   ]
  },
  {
   "cell_type": "code",
   "execution_count": 5,
   "metadata": {},
   "outputs": [],
   "source": [
    "rag_chain = qwen_model.apply_template(llm , retriver)"
   ]
  },
  {
   "cell_type": "code",
   "execution_count": 7,
   "metadata": {},
   "outputs": [],
   "source": [
    "reply = qwen_model.response(rag_chain , \" Find the Dispersion Relation of Homogenous Bose Einstein Condenstate \")"
   ]
  },
  {
   "cell_type": "code",
   "execution_count": 8,
   "metadata": {},
   "outputs": [
    {
     "data": {
      "text/markdown": [
       "The dispersion relation for a homogeneous Bose-Einstein condensate, up to wave vectors comparable to the inverse of the healing length (\\(\\frac{1}{\\xi}\\)), is linear (phonon-like). The healing length \\(\\xi\\) is approximately 0.2 mm at the peak density of the condensate.\n",
       "\n",
       "This information can be summarized in a simple text format:\n",
       "\n",
       "```\n",
       "Dispersion Relation for Homogeneous Bose-Einstein Condensate:\n",
       "- Linear up to wave vectors comparable to the inverse of the healing length (1/ξ)\n",
       "- Healing length ξ ≈ 0.2 mm at peak density\n",
       "```"
      ],
      "text/plain": [
       "<IPython.core.display.Markdown object>"
      ]
     },
     "metadata": {},
     "output_type": "display_data"
    }
   ],
   "source": [
    "display(Markdown(reply))"
   ]
  }
 ],
 "metadata": {
  "kernelspec": {
   "display_name": "Python 3",
   "language": "python",
   "name": "python3"
  },
  "language_info": {
   "codemirror_mode": {
    "name": "ipython",
    "version": 3
   },
   "file_extension": ".py",
   "mimetype": "text/x-python",
   "name": "python",
   "nbconvert_exporter": "python",
   "pygments_lexer": "ipython3",
   "version": "3.11.9"
  }
 },
 "nbformat": 4,
 "nbformat_minor": 2
}
