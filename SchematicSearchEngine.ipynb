{
 "cells": [
  {
   "cell_type": "code",
   "execution_count": 19,
   "metadata": {},
   "outputs": [],
   "source": [
    "from langchain_community.document_loaders import PyMuPDFLoader\n",
    "from langchain_ollama import OllamaEmbeddings\n",
    "from langchain_nomic import NomicEmbeddings\n",
    "\n",
    "#from langchain_community.vectorstores import DocArrayHnswSearch\n",
    "#from langchain_community.vectorstores import DocArrayInMemorySearch\n",
    "#from langchain_community.retrievers import DocArrayRetriever\n",
    "\n",
    "from langchain_core.vectorstores import InMemoryVectorStore\n",
    "\n",
    "from langchain_text_splitters import RecursiveCharacterTextSplitter\n",
    "\n",
    "from typing import List\n",
    "from langchain_core.documents import Document\n",
    "from langchain_core.runnables import chain"
   ]
  },
  {
   "cell_type": "code",
   "execution_count": 8,
   "metadata": {},
   "outputs": [],
   "source": [
    "from langchain.chains import create_retrieval_chain\n",
    "from langchain.chains.combine_documents import create_stuff_documents_chain\n",
    "from langchain_core.prompts import ChatPromptTemplate"
   ]
  },
  {
   "cell_type": "code",
   "execution_count": 10,
   "metadata": {},
   "outputs": [
    {
     "name": "stdout",
     "output_type": "stream",
     "text": [
      "4\n"
     ]
    }
   ],
   "source": [
    "filepath = 'Datafiles/Publication606.pdf'\n",
    "loader = PyMuPDFLoader(filepath)\n",
    "docs = loader.load()\n",
    "print(len(docs)) ## no of pages"
   ]
  },
  {
   "cell_type": "code",
   "execution_count": 11,
   "metadata": {},
   "outputs": [
    {
     "name": "stdout",
     "output_type": "stream",
     "text": [
      "VOLUME 79, NUMBER 4\n",
      "P H Y S I C A L R E V I E W L E T T E R S\n",
      "28 JULY 1997\n",
      "Propagation of Sound in a Bose-Einstein Condensate\n",
      "M. R. Andrews, D. M. Kurn, H.-J. Miesner, D. S. Durfee, C. G. Townsend, S.\n",
      "\n",
      "{'source': 'Datafiles/Publication606.pdf', 'file_path': 'Datafiles/Publication606.pdf', 'page': 0, 'total_pages': 4, 'format': 'PDF 1.3', 'title': '', 'author': '', 'subject': '', 'keywords': '', 'creator': '', 'producer': 'Acrobat Distiller 2.1 for Power Macintosh', 'creationDate': 'D:19970715200452', 'modDate': \"D:20001116073127-05'00'\", 'trapped': ''}\n"
     ]
    }
   ],
   "source": [
    "print(f\"{docs[0].page_content[:200]}\\n\") ## gives info of page 0\n",
    "print(docs[0].metadata)"
   ]
  },
  {
   "cell_type": "code",
   "execution_count": 12,
   "metadata": {},
   "outputs": [
    {
     "data": {
      "text/plain": [
       "25"
      ]
     },
     "execution_count": 12,
     "metadata": {},
     "output_type": "execute_result"
    }
   ],
   "source": [
    "text_splitter = RecursiveCharacterTextSplitter(chunk_size=1000, chunk_overlap=200, add_start_index=True)\n",
    "\n",
    "all_splits = text_splitter.split_documents(docs)\n",
    "\n",
    "len(all_splits)"
   ]
  },
  {
   "cell_type": "code",
   "execution_count": 14,
   "metadata": {},
   "outputs": [],
   "source": [
    "embeddings = OllamaEmbeddings(model=\"nomic-embed-text\")"
   ]
  },
  {
   "cell_type": "code",
   "execution_count": 15,
   "metadata": {},
   "outputs": [],
   "source": [
    "vector_store = InMemoryVectorStore(embeddings)"
   ]
  },
  {
   "cell_type": "code",
   "execution_count": 16,
   "metadata": {},
   "outputs": [],
   "source": [
    "ids = vector_store.add_documents(documents=all_splits)"
   ]
  },
  {
   "cell_type": "code",
   "execution_count": 18,
   "metadata": {},
   "outputs": [
    {
     "name": "stdout",
     "output_type": "stream",
     "text": [
      "Score: 0.5690146769640338\n",
      "\n",
      "page_content='much smaller than the size of the condensate, we directly\n",
      "observed the propagation of sound waves, analogous\n",
      "to studies in superﬂuids, and determined the speed of\n",
      "sound.\n",
      "In this study, we demonstrated a method for\n",
      "locally exciting a condensate using a focused off-resonant\n",
      "laser beam, and a new technique of observing dynamical\n",
      "processes using rapid sequencing of nondestructive phase-\n",
      "contrast images.\n",
      "Bose-Einstein condensed gases at temperature T ­ 0\n",
      "are described by the nonlinear Schrödinger equation,\n",
      "which, in the limit of a large number of atoms, yields hy-\n",
      "drodynamic equations [1,9]. Density perturbations propa-\n",
      "gate according to a wave equation for zeroth sound,\n",
      "≠2\n",
      "t dnsrd ­ = ? fc2srd=dnsrdg ,\n",
      "(1)\n",
      "where dnsrd is the deviation from the equilibrium density\n",
      "nsrd.\n",
      "The local speed of sound csrd is given by an\n",
      "expression ﬁrst derived by Bogoliubov [10] and Lee,\n",
      "Huang, and Yang [11]\n",
      "csrd ­\n",
      "q\n",
      "nsrd ˜Uym ,\n",
      "(2)\n",
      "where ˜U ­ 4p ¯h2aym characterizes the (repulsive) inter-' metadata={'source': 'Datafiles/Publication606.pdf', 'file_path': 'Datafiles/Publication606.pdf', 'page': 0, 'total_pages': 4, 'format': 'PDF 1.3', 'title': '', 'author': '', 'subject': '', 'keywords': '', 'creator': '', 'producer': 'Acrobat Distiller 2.1 for Power Macintosh', 'creationDate': 'D:19970715200452', 'modDate': \"D:20001116073127-05'00'\", 'trapped': '', 'start_index': 2441}\n"
     ]
    }
   ],
   "source": [
    "results = vector_store.similarity_search_with_score(\"the nonlinear Schrödinger equation\")\n",
    "doc, score = results[0]\n",
    "print(f\"Score: {score}\\n\")\n",
    "print(doc)"
   ]
  },
  {
   "cell_type": "code",
   "execution_count": 21,
   "metadata": {},
   "outputs": [
    {
     "data": {
      "text/plain": [
       "[[Document(id='5861625f-02bd-4550-afe8-e5c3c5249591', metadata={'source': 'Datafiles/Publication606.pdf', 'file_path': 'Datafiles/Publication606.pdf', 'page': 0, 'total_pages': 4, 'format': 'PDF 1.3', 'title': '', 'author': '', 'subject': '', 'keywords': '', 'creator': '', 'producer': 'Acrobat Distiller 2.1 for Power Macintosh', 'creationDate': 'D:19970715200452', 'modDate': \"D:20001116073127-05'00'\", 'trapped': '', 'start_index': 1606}, page_content='gases, is the characterization of the system by its collective\\nexcitations.\\nSeveral experimental [6,7] and theoretical\\n[8,9] papers have studied oscillations in Bose-Einstein\\ncondensed gases of trapped atoms. So far, the resonance\\nfrequencies and the damping of only the few lowest\\nmodes have been investigated. Due to the small size of\\nthe trapped clouds, the discrete nature of the spectrum\\nis dominant, in contrast to the continuous spectrum of\\nquantum liquids, which is phononlike at low frequencies.\\nThe correspondence between the excitation spectrum of\\na quantum liquid [2], which consists of zeroth, ﬁrst, and\\nsecond sound, and the collective modes of a trapped Bose-\\nEinstein condensate have not yet been delineated.\\nIn this Letter we study zeroth sound in Bose-Einstein\\ncondensed samples. After exciting density perturbations\\nmuch smaller than the size of the condensate, we directly\\nobserved the propagation of sound waves, analogous\\nto studies in superﬂuids, and determined the speed of')],\n",
       " [Document(id='8675a921-fade-4192-91d0-4201b7272682', metadata={'source': 'Datafiles/Publication606.pdf', 'file_path': 'Datafiles/Publication606.pdf', 'page': 1, 'total_pages': 4, 'format': 'PDF 1.3', 'title': '', 'author': '', 'subject': '', 'keywords': '', 'creator': '', 'producer': 'Acrobat Distiller 2.1 for Power Macintosh', 'creationDate': 'D:19970715200452', 'modDate': \"D:20001116073127-05'00'\", 'trapped': '', 'start_index': 2403}, page_content='Alternatively, we formed a\\ncondensate by evaporative cooling in the presence of\\nthe argon ion laser light, and then switched the laser off\\n[Fig. 1(b)].\\nThis created localized depletions of density\\n(negative perturbations) which also propagated outward.\\nFigures 2 and 3 show the propagation of density pertur-\\nbations observed by sequential phase-contrast imaging of\\na single condensate. The position of the density maxima\\nvaried linearly with time, and the speed of propagation\\nwas easily extracted. By changing the power of the argon\\nion laser, the relative amplitude of the density perturbation\\nwas varied between 20 and 100%. Within the accuracy of\\nthe measurement, the speed of sound was independent of\\namplitudes and was the same for positive and negative\\nperturbations.\\nThe density dependence of the speed of sound was stud-\\nied using adiabatically expanded condensates. The weak-\\nest trap was formed when the ﬁeld curvature was reduced\\nto 20 G/cm2 and the bias ﬁeld increased to 4 G.\\nThe')]]"
      ]
     },
     "execution_count": 21,
     "metadata": {},
     "output_type": "execute_result"
    }
   ],
   "source": [
    "retriever = vector_store.as_retriever(\n",
    "    search_type=\"similarity\",\n",
    "    search_kwargs={\"k\": 1},\n",
    ")\n",
    "\n",
    "retriever.batch(\n",
    "    [\n",
    "        \"Density perturbations propagate according to a wave equation for zeroth sound\",\n",
    "        \"The density dependence of the speed of sound was studied using adiabatically expanded condensates.\",\n",
    "    ],\n",
    ")"
   ]
  },
  {
   "cell_type": "code",
   "execution_count": null,
   "metadata": {},
   "outputs": [],
   "source": []
  }
 ],
 "metadata": {
  "kernelspec": {
   "display_name": "Python 3",
   "language": "python",
   "name": "python3"
  },
  "language_info": {
   "codemirror_mode": {
    "name": "ipython",
    "version": 3
   },
   "file_extension": ".py",
   "mimetype": "text/x-python",
   "name": "python",
   "nbconvert_exporter": "python",
   "pygments_lexer": "ipython3",
   "version": "3.11.9"
  }
 },
 "nbformat": 4,
 "nbformat_minor": 2
}
